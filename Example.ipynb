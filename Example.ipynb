{
 "cells": [
  {
   "cell_type": "markdown",
   "metadata": {
    "editable": true
   },
   "source": [
    "# SETUP"
   ]
  },
  {
   "cell_type": "code",
   "execution_count": 1,
   "metadata": {
    "editable": true
   },
   "outputs": [],
   "source": [
    "import configparser\n",
    "from pyspark.sql import SparkSession\n",
    "from pyspark.sql.functions import substring_index, col\n",
    "import os"
   ]
  },
  {
   "cell_type": "code",
   "execution_count": 2,
   "metadata": {
    "editable": true
   },
   "outputs": [],
   "source": [
    "config = configparser.ConfigParser()\n",
    "config.read('dl.cfg')\n",
    "\n",
    "os.environ['AWS_ACCESS_KEY_ID']=config.get(\"AWS\",\"AWS_ACCESS_KEY_ID\")\n",
    "os.environ['AWS_SECRET_ACCESS_KEY']=config.get(\"AWS\",\"AWS_SECRET_ACCESS_KEY\")\n",
    "\n",
    "\n",
    "def create_spark_session():\n",
    "    \"\"\"\n",
    "    This function creates a spark session. \n",
    "    \n",
    "    NO INPUTS\n",
    "    \n",
    "    OUTPUT: returns a variable referencing the created session.\n",
    "    \"\"\"\n",
    "    spark = SparkSession \\\n",
    "        .builder \\\n",
    "        .config(\"spark.jars.packages\", \"org.apache.hadoop:hadoop-aws:2.7.0\") \\\n",
    "        .getOrCreate()\n",
    "    return spark\n",
    "\n"
   ]
  },
  {
   "cell_type": "code",
   "execution_count": 3,
   "metadata": {
    "editable": true
   },
   "outputs": [],
   "source": [
    "spark = create_spark_session()"
   ]
  },
  {
   "cell_type": "code",
   "execution_count": 6,
   "metadata": {
    "editable": true
   },
   "outputs": [],
   "source": [
    "# Read the processed files in S3 output bucket\n",
    "output_data = \"s3a://udacityvitorsparkfy/\"\n",
    "songplay_df = spark.read.parquet(output_data+'songplay/')\n",
    "song_df= spark.read.parquet(output_data+'songs/')"
   ]
  },
  {
   "cell_type": "markdown",
   "metadata": {
    "editable": true
   },
   "source": [
    "## Example query"
   ]
  },
  {
   "cell_type": "markdown",
   "metadata": {
    "editable": true
   },
   "source": [
    "### Query 1: What song was most played in the state with the most users?"
   ]
  },
  {
   "cell_type": "code",
   "execution_count": 9,
   "metadata": {
    "editable": true
   },
   "outputs": [],
   "source": [
    "#To ease the query, extract state from location column\n",
    "songplay_df=songplay_df.withColumn('State', substring_index(col('location'),',',-1))"
   ]
  },
  {
   "cell_type": "code",
   "execution_count": 10,
   "metadata": {
    "editable": true
   },
   "outputs": [
    {
     "name": "stdout",
     "output_type": "stream",
     "text": [
      "+--------------------+-------+-----+------------------+------------------+----------+--------------------+--------------------+----+-----+-----+\n",
      "|          start_time|user_id|level|           song_id|         artist_id|session_id|            location|          user_agent|year|month|State|\n",
      "+--------------------+-------+-----+------------------+------------------+----------+--------------------+--------------------+----+-----+-----+\n",
      "|2018-11-11 15:00:...|     67| free|SOCHRXB12A8AE48069|ARTDQRC1187FB4EFD4|       414|Nashville-Davidso...|\"Mozilla/5.0 (Mac...|2018|   11|   TN|\n",
      "|2018-11-15 13:17:...|     30| paid|SOUPKAB12AB0185DF9|ARAGJTD1187B9A8646|       324|San Jose-Sunnyval...|Mozilla/5.0 (Wind...|2018|   11|   CA|\n",
      "|2018-11-15 14:46:...|     30| paid|SOTCOTZ12A8C136BCB|AR7WK5411A348EF5EA|       324|San Jose-Sunnyval...|Mozilla/5.0 (Wind...|2018|   11|   CA|\n",
      "|2018-11-15 16:19:...|     97| paid|SOBLFFE12AF72AA5BA|ARJNIUY12298900C91|       605|Lansing-East Lans...|\"Mozilla/5.0 (X11...|2018|   11|   MI|\n",
      "|2018-11-15 17:44:...|     97| paid|SOFXNQP12AB0184F1A|AR9ODB41187FB459B2|       605|Lansing-East Lans...|\"Mozilla/5.0 (X11...|2018|   11|   MI|\n",
      "+--------------------+-------+-----+------------------+------------------+----------+--------------------+--------------------+----+-----+-----+\n",
      "only showing top 5 rows\n",
      "\n"
     ]
    }
   ],
   "source": [
    "songplay_df.show(5)"
   ]
  },
  {
   "cell_type": "code",
   "execution_count": 11,
   "metadata": {
    "editable": true
   },
   "outputs": [],
   "source": [
    "songplay_df.createOrReplaceTempView('songplay')\n",
    "song_df.createOrReplaceTempView('songs')"
   ]
  },
  {
   "cell_type": "code",
   "execution_count": 13,
   "metadata": {
    "editable": true
   },
   "outputs": [
    {
     "name": "stdout",
     "output_type": "stream",
     "text": [
      "+--------------------+------------+\n",
      "|               title|times_played|\n",
      "+--------------------+------------+\n",
      "|Let's Get It Started|           2|\n",
      "|The Boy With The ...|           1|\n",
      "|                Sick|           1|\n",
      "|               Smile|           1|\n",
      "|        Intermission|           1|\n",
      "+--------------------+------------+\n",
      "only showing top 5 rows\n",
      "\n"
     ]
    }
   ],
   "source": [
    "spark.sql(\"\"\" SELECT s.title, COUNT(*) as times_played, sp.State\n",
    "                FROM songplay sp\n",
    "                JOIN songs s ON s.song_id = sp.song_id\n",
    "                WHERE sp.State= (\n",
    "                                SELECT State \n",
    "                                FROM(\n",
    "                                        SELECT State, COUNT(DISTINCT user_id)\n",
    "                                        FROM songplay\n",
    "                                        GROUP BY 1\n",
    "                                        ORDER BY 2 DESC\n",
    "                                    )\n",
    "                                LIMIT 1\n",
    "                                )\n",
    "                GROUP BY 1\n",
    "                ORDER BY 2 DESC\n",
    "        \"\"\").show(5)"
   ]
  },
  {
   "cell_type": "code",
   "execution_count": null,
   "metadata": {
    "editable": true
   },
   "outputs": [],
   "source": []
  }
 ],
 "metadata": {
  "kernelspec": {
   "display_name": "Python 3",
   "language": "python",
   "name": "python3"
  },
  "language_info": {
   "codemirror_mode": {
    "name": "ipython",
    "version": 3
   },
   "file_extension": ".py",
   "mimetype": "text/x-python",
   "name": "python",
   "nbconvert_exporter": "python",
   "pygments_lexer": "ipython3",
   "version": "3.6.3"
  }
 },
 "nbformat": 4,
 "nbformat_minor": 4
}
